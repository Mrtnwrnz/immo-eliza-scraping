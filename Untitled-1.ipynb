{
 "cells": [
  {
   "cell_type": "code",
   "execution_count": 264,
   "metadata": {},
   "outputs": [
    {
     "name": "stdout",
     "output_type": "stream",
     "text": [
      "error: nothing here\n",
      "error: nothing here\n",
      "{'Beschikbaar': 'Bij ondertekening van de akte', 'Bouwjaar': '1935', 'Staat van het gebouw': 'Goed', 'Gevelbreedte aan de straatkant': '5 m', 'Aantal gevels': '3', 'Overdekte parkeerplaatsen': '1', 'Buitenparkeerplaatsen': '1', 'Virtueel bezoek': '', 'Asbestcertificaat is beschikbaar': 'Ja', 'Bewoonbare oppervlakte': '139', 'Oppervlakte woonkamer': '21', 'Type keuken': 'Geïnstalleerd', 'Oppervlakte keuken': '14', 'Slaapkamers': '3', 'Oppervlakte slaapkamer 1': '13', 'Oppervlakte slaapkamer 2': '12', 'Oppervlakte slaapkamer 3': '11', 'Badkamers': '2', 'WC': '2', 'Kelder': 'Ja', 'Oppervlakte van het perceel': '315', 'Breedte van de grond op de straat': '', 'Gas, water & elektriciteit': 'Nee', 'Oppervlakte tuin': '145', 'Oriëntatie van de tuin': 'Noordoost', 'Oppervlakte terras': '14', 'Primair energieverbruik': '172', 'Energieklasse': 'B', 'Referentie van het EPC-rapport': '20210507-0002409093-RES-2', 'CO₂ Uitstoot': '1000 kg CO₂/m²', 'Jaarlijks theoretisch totaal energieverbruik': 'Niet gespecificeerd', 'As-builtattest': 'Nee', 'Conformiteitscertificaat voor brandstoftanks': 'Niet gespecificeerd', 'Type verwarming': 'Gas', 'Dubbel glas': 'Ja', 'Stedenbouwkundige vergunning ontvangen': 'Ja', 'Verkavelingsvergunning': 'Nee', 'Voorkooprecht mogelijk': 'Nee', 'Dagvaarding voor inbreuk op de stedenbouwkundige voorschriften': 'Nee', 'Overstroming zonetype': 'Geen overstromingsgebied', '': 'A', 'Meest recente stedenbouwkundige bestemming met benaming van het plannenregister': 'Woongebied (residentieel, stedelijk of landelijk)', 'Kadastraal inkomen': '', 'Vastgoedbelegging': 'Nee', 'Adres': 'Schoolstraat 58', 'Website': '', 'Externe verwijzing': '898 - 24/09/01'}\n"
     ]
    }
   ],
   "source": [
    "import requests\n",
    "from bs4 import BeautifulSoup\n",
    "\n",
    "headers = {'User-Agent': 'Mozilla/5.0 (Windows NT 10.0; Win64; x64) AppleWebKit/537.36 (KHTML, like Gecko) Chrome/108.0.0.0 Safari/537.36'}\n",
    "url = \"https://www.immoweb.be/nl/zoekertje/huis/te-koop/bonheiden/2820/20226641\"\n",
    "response = requests.get(url, headers=headers)\n",
    "soup = BeautifulSoup(response.content, \"html\")\n",
    "\n",
    "# price\n",
    "price = soup.find(\"p\", attrs={\"class\": \"classified__price\"}).text.split(\" \")[0].strip()\n",
    "\n",
    "\n",
    "# property ID\n",
    "property_ID = soup.find(\"div\", attrs={\"class\": \"classified__header--immoweb-code\"}).contents[0].strip().split(':')[1]\n",
    "\n",
    "# living area\n",
    "living_area = soup.find(\"p\", attrs={\"class\": \"classified__information--property\"}).text.split(\"\\n\")[3].strip()\n",
    "\n",
    "# contents table\n",
    "\n",
    "rows = soup.find_all('tr', class_='classified-table__row')\n",
    "\n",
    "\n",
    "for row in rows:\n",
    "    header = row.find('th', class_='classified-table__header')\n",
    "    data_cell = row.find('td', class_='classified-table__data')\n",
    "    if header and data_cell:\n",
    "        header_key = header.contents[0].strip()\n",
    "        data_cell_value = data_cell.contents[0].strip()\n",
    "    else:\n",
    "        print(\"error: nothing here\")\n",
    "    data_dict[header_key] = data_cell_value\n",
    "\n",
    "print(data_dict)\n"
   ]
  }
 ],
 "metadata": {
  "kernelspec": {
   "display_name": "Python 3",
   "language": "python",
   "name": "python3"
  },
  "language_info": {
   "codemirror_mode": {
    "name": "ipython",
    "version": 3
   },
   "file_extension": ".py",
   "mimetype": "text/x-python",
   "name": "python",
   "nbconvert_exporter": "python",
   "pygments_lexer": "ipython3",
   "version": "3.12.6"
  }
 },
 "nbformat": 4,
 "nbformat_minor": 2
}
